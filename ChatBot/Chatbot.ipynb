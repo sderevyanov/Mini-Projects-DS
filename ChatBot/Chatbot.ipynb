{
 "cells": [
  {
   "cell_type": "code",
   "execution_count": 1,
   "metadata": {
    "id": "1LJvRpgiP5Oe"
   },
   "outputs": [],
   "source": [
    "import os\n",
    "import string\n",
    "import annoy\n",
    "\n",
    "from pymorphy2 import MorphAnalyzer\n",
    "from stop_words import get_stop_words\n",
    "from gensim.models import Word2Vec\n",
    "\n",
    "import numpy as np\n",
    "from tqdm.notebook import tqdm\n",
    "import pandas as pd\n",
    "import codecs\n",
    "\n",
    "from sklearn.model_selection import train_test_split\n",
    "from sklearn.linear_model import LogisticRegression\n",
    "from sklearn.svm import LinearSVC\n",
    "from sklearn.ensemble import RandomForestClassifier\n",
    "\n",
    "from sklearn.feature_extraction.text import TfidfVectorizer\n",
    "from sklearn.metrics import accuracy_score\n",
    "import pickle"
   ]
  },
  {
   "cell_type": "code",
   "execution_count": 2,
   "metadata": {},
   "outputs": [],
   "source": [
    "#pip install gensim"
   ]
  },
  {
   "cell_type": "markdown",
   "metadata": {},
   "source": [
    "# Предобработаем данные для обучения классификатора"
   ]
  },
  {
   "cell_type": "markdown",
   "metadata": {},
   "source": [
    "### Предобработаем датасет с товарами"
   ]
  },
  {
   "cell_type": "code",
   "execution_count": 3,
   "metadata": {},
   "outputs": [
    {
     "data": {
      "text/html": [
       "<div>\n",
       "<style scoped>\n",
       "    .dataframe tbody tr th:only-of-type {\n",
       "        vertical-align: middle;\n",
       "    }\n",
       "\n",
       "    .dataframe tbody tr th {\n",
       "        vertical-align: top;\n",
       "    }\n",
       "\n",
       "    .dataframe thead th {\n",
       "        text-align: right;\n",
       "    }\n",
       "</style>\n",
       "<table border=\"1\" class=\"dataframe\">\n",
       "  <thead>\n",
       "    <tr style=\"text-align: right;\">\n",
       "      <th></th>\n",
       "      <th>title</th>\n",
       "      <th>descrirption</th>\n",
       "      <th>product_id</th>\n",
       "      <th>category_id</th>\n",
       "      <th>subcategory_id</th>\n",
       "      <th>properties</th>\n",
       "      <th>image_links</th>\n",
       "    </tr>\n",
       "  </thead>\n",
       "  <tbody>\n",
       "    <tr>\n",
       "      <th>0</th>\n",
       "      <td>Юбка детская ORBY</td>\n",
       "      <td>Новая, не носили ни разу. В реале красивей чем...</td>\n",
       "      <td>58e3cfe6132ca50e053f5f82</td>\n",
       "      <td>22.0</td>\n",
       "      <td>2211</td>\n",
       "      <td>{'detskie_razmer_rost': '81-86 (1,5 года)'}</td>\n",
       "      <td>http://cache3.youla.io/files/images/360_360/58...</td>\n",
       "    </tr>\n",
       "    <tr>\n",
       "      <th>1</th>\n",
       "      <td>Ботильоны</td>\n",
       "      <td>Новые,привезены из Чехии ,указан размер 40,но ...</td>\n",
       "      <td>5667531b2b7f8d127d838c34</td>\n",
       "      <td>9.0</td>\n",
       "      <td>902</td>\n",
       "      <td>{'zhenskaya_odezhda_tzvet': 'Зеленый', 'visota...</td>\n",
       "      <td>http://cache3.youla.io/files/images/360_360/5b...</td>\n",
       "    </tr>\n",
       "    <tr>\n",
       "      <th>2</th>\n",
       "      <td>Брюки</td>\n",
       "      <td>Размер 40-42. Брюки почти новые - не знаю как ...</td>\n",
       "      <td>59534826aaab284cba337e06</td>\n",
       "      <td>9.0</td>\n",
       "      <td>906</td>\n",
       "      <td>{'zhenskaya_odezhda_dzhinsy_bryuki_tip': 'Брюк...</td>\n",
       "      <td>http://cache3.youla.io/files/images/360_360/59...</td>\n",
       "    </tr>\n",
       "    <tr>\n",
       "      <th>3</th>\n",
       "      <td>Продам детские шапки</td>\n",
       "      <td>Продам шапки,кажда 200р.Розовая и белая проданны.</td>\n",
       "      <td>57de544096ad842e26de8027</td>\n",
       "      <td>22.0</td>\n",
       "      <td>2217</td>\n",
       "      <td>{'detskie_pol': 'Девочкам', 'detskaya_odezhda_...</td>\n",
       "      <td>http://cache3.youla.io/files/images/360_360/57...</td>\n",
       "    </tr>\n",
       "    <tr>\n",
       "      <th>4</th>\n",
       "      <td>Блузка</td>\n",
       "      <td>Темно-синяя, 42 размер,состояние отличное,как ...</td>\n",
       "      <td>5ad4d2626c86cb168d212022</td>\n",
       "      <td>9.0</td>\n",
       "      <td>907</td>\n",
       "      <td>{'zhenskaya_odezhda_tzvet': 'Синий', 'zhenskay...</td>\n",
       "      <td>http://cache3.youla.io/files/images/360_360/5a...</td>\n",
       "    </tr>\n",
       "  </tbody>\n",
       "</table>\n",
       "</div>"
      ],
      "text/plain": [
       "                  title                                       descrirption  \\\n",
       "0     Юбка детская ORBY  Новая, не носили ни разу. В реале красивей чем...   \n",
       "1             Ботильоны  Новые,привезены из Чехии ,указан размер 40,но ...   \n",
       "2                 Брюки  Размер 40-42. Брюки почти новые - не знаю как ...   \n",
       "3  Продам детские шапки  Продам шапки,кажда 200р.Розовая и белая проданны.   \n",
       "4                Блузка  Темно-синяя, 42 размер,состояние отличное,как ...   \n",
       "\n",
       "                 product_id  category_id subcategory_id  \\\n",
       "0  58e3cfe6132ca50e053f5f82         22.0           2211   \n",
       "1  5667531b2b7f8d127d838c34          9.0            902   \n",
       "2  59534826aaab284cba337e06          9.0            906   \n",
       "3  57de544096ad842e26de8027         22.0           2217   \n",
       "4  5ad4d2626c86cb168d212022          9.0            907   \n",
       "\n",
       "                                          properties  \\\n",
       "0        {'detskie_razmer_rost': '81-86 (1,5 года)'}   \n",
       "1  {'zhenskaya_odezhda_tzvet': 'Зеленый', 'visota...   \n",
       "2  {'zhenskaya_odezhda_dzhinsy_bryuki_tip': 'Брюк...   \n",
       "3  {'detskie_pol': 'Девочкам', 'detskaya_odezhda_...   \n",
       "4  {'zhenskaya_odezhda_tzvet': 'Синий', 'zhenskay...   \n",
       "\n",
       "                                         image_links  \n",
       "0  http://cache3.youla.io/files/images/360_360/58...  \n",
       "1  http://cache3.youla.io/files/images/360_360/5b...  \n",
       "2  http://cache3.youla.io/files/images/360_360/59...  \n",
       "3  http://cache3.youla.io/files/images/360_360/57...  \n",
       "4  http://cache3.youla.io/files/images/360_360/5a...  "
      ]
     },
     "execution_count": 3,
     "metadata": {},
     "output_type": "execute_result"
    }
   ],
   "source": [
    "# Загрузим датасет с наименованиями товаров\n",
    "data = pd.read_csv('ProductsDataset.csv')\n",
    "data.head(5)"
   ]
  },
  {
   "cell_type": "code",
   "execution_count": 4,
   "metadata": {},
   "outputs": [
    {
     "name": "stdout",
     "output_type": "stream",
     "text": [
      "<class 'pandas.core.frame.DataFrame'>\n",
      "RangeIndex: 35548 entries, 0 to 35547\n",
      "Data columns (total 7 columns):\n",
      " #   Column          Non-Null Count  Dtype  \n",
      "---  ------          --------------  -----  \n",
      " 0   title           35548 non-null  object \n",
      " 1   descrirption    33537 non-null  object \n",
      " 2   product_id      35536 non-null  object \n",
      " 3   category_id     35536 non-null  float64\n",
      " 4   subcategory_id  35536 non-null  object \n",
      " 5   properties      35536 non-null  object \n",
      " 6   image_links     35533 non-null  object \n",
      "dtypes: float64(1), object(6)\n",
      "memory usage: 1.9+ MB\n"
     ]
    }
   ],
   "source": [
    "data.info()"
   ]
  },
  {
   "cell_type": "code",
   "execution_count": 5,
   "metadata": {},
   "outputs": [
    {
     "data": {
      "text/plain": [
       "title                0\n",
       "descrirption      2011\n",
       "product_id          12\n",
       "category_id         12\n",
       "subcategory_id      12\n",
       "properties          12\n",
       "image_links         15\n",
       "dtype: int64"
      ]
     },
     "execution_count": 5,
     "metadata": {},
     "output_type": "execute_result"
    }
   ],
   "source": [
    "data.isna().sum()"
   ]
  },
  {
   "cell_type": "code",
   "execution_count": 6,
   "metadata": {},
   "outputs": [
    {
     "data": {
      "text/html": [
       "<div>\n",
       "<style scoped>\n",
       "    .dataframe tbody tr th:only-of-type {\n",
       "        vertical-align: middle;\n",
       "    }\n",
       "\n",
       "    .dataframe tbody tr th {\n",
       "        vertical-align: top;\n",
       "    }\n",
       "\n",
       "    .dataframe thead th {\n",
       "        text-align: right;\n",
       "    }\n",
       "</style>\n",
       "<table border=\"1\" class=\"dataframe\">\n",
       "  <thead>\n",
       "    <tr style=\"text-align: right;\">\n",
       "      <th></th>\n",
       "      <th>question</th>\n",
       "      <th>product_id</th>\n",
       "    </tr>\n",
       "  </thead>\n",
       "  <tbody>\n",
       "    <tr>\n",
       "      <th>0</th>\n",
       "      <td>Новая, не носили ни разу. В реале красивей чем...</td>\n",
       "      <td>58e3cfe6132ca50e053f5f82</td>\n",
       "    </tr>\n",
       "    <tr>\n",
       "      <th>1</th>\n",
       "      <td>Новые,привезены из Чехии ,указан размер 40,но ...</td>\n",
       "      <td>5667531b2b7f8d127d838c34</td>\n",
       "    </tr>\n",
       "    <tr>\n",
       "      <th>2</th>\n",
       "      <td>Размер 40-42. Брюки почти новые - не знаю как ...</td>\n",
       "      <td>59534826aaab284cba337e06</td>\n",
       "    </tr>\n",
       "    <tr>\n",
       "      <th>3</th>\n",
       "      <td>Продам шапки,кажда 200р.Розовая и белая проданны.</td>\n",
       "      <td>57de544096ad842e26de8027</td>\n",
       "    </tr>\n",
       "    <tr>\n",
       "      <th>4</th>\n",
       "      <td>Темно-синяя, 42 размер,состояние отличное,как ...</td>\n",
       "      <td>5ad4d2626c86cb168d212022</td>\n",
       "    </tr>\n",
       "    <tr>\n",
       "      <th>...</th>\n",
       "      <td>...</td>\n",
       "      <td>...</td>\n",
       "    </tr>\n",
       "    <tr>\n",
       "      <th>35542</th>\n",
       "      <td>Привезли из Европы, не подошло по размеру\\n\\nР...</td>\n",
       "      <td>5ac078a7938000715c0e2c38</td>\n",
       "    </tr>\n",
       "    <tr>\n",
       "      <th>35543</th>\n",
       "      <td>Юбка Белая по.Турция фирма adL</td>\n",
       "      <td>5b5f181c62e1c6616a7f6472</td>\n",
       "    </tr>\n",
       "    <tr>\n",
       "      <th>35544</th>\n",
       "      <td>Новый с бирками пиджак размер S в стиле Coco C...</td>\n",
       "      <td>5bd6c8b29e94ba033d31f8d0</td>\n",
       "    </tr>\n",
       "    <tr>\n",
       "      <th>35545</th>\n",
       "      <td>Женская зимняя спортивная куртка фирмы Rossiqn...</td>\n",
       "      <td>5bd6c8bc074b3e1c056f69b2</td>\n",
       "    </tr>\n",
       "    <tr>\n",
       "      <th>35546</th>\n",
       "      <td>Женская ветровка размер 44-46. Цвет приглушённ...</td>\n",
       "      <td>5bd6c8fb2138bbc55745362c</td>\n",
       "    </tr>\n",
       "  </tbody>\n",
       "</table>\n",
       "<p>33534 rows × 2 columns</p>\n",
       "</div>"
      ],
      "text/plain": [
       "                                                question  \\\n",
       "0      Новая, не носили ни разу. В реале красивей чем...   \n",
       "1      Новые,привезены из Чехии ,указан размер 40,но ...   \n",
       "2      Размер 40-42. Брюки почти новые - не знаю как ...   \n",
       "3      Продам шапки,кажда 200р.Розовая и белая проданны.   \n",
       "4      Темно-синяя, 42 размер,состояние отличное,как ...   \n",
       "...                                                  ...   \n",
       "35542  Привезли из Европы, не подошло по размеру\\n\\nР...   \n",
       "35543                     Юбка Белая по.Турция фирма adL   \n",
       "35544  Новый с бирками пиджак размер S в стиле Coco C...   \n",
       "35545  Женская зимняя спортивная куртка фирмы Rossiqn...   \n",
       "35546  Женская ветровка размер 44-46. Цвет приглушённ...   \n",
       "\n",
       "                     product_id  \n",
       "0      58e3cfe6132ca50e053f5f82  \n",
       "1      5667531b2b7f8d127d838c34  \n",
       "2      59534826aaab284cba337e06  \n",
       "3      57de544096ad842e26de8027  \n",
       "4      5ad4d2626c86cb168d212022  \n",
       "...                         ...  \n",
       "35542  5ac078a7938000715c0e2c38  \n",
       "35543  5b5f181c62e1c6616a7f6472  \n",
       "35544  5bd6c8b29e94ba033d31f8d0  \n",
       "35545  5bd6c8bc074b3e1c056f69b2  \n",
       "35546  5bd6c8fb2138bbc55745362c  \n",
       "\n",
       "[33534 rows x 2 columns]"
      ]
     },
     "execution_count": 6,
     "metadata": {},
     "output_type": "execute_result"
    }
   ],
   "source": [
    "# Создадим дополнительный датасет из пары описание-id товара, \n",
    "# чтобы далее его конкотенировать к основному датасету из пары заголовок-id товара\n",
    "data_descr = data[['descrirption', 'product_id']].copy()\n",
    "data_descr = data_descr.rename(columns={'descrirption': 'question'})\n",
    "data_descr = data_descr.dropna()\n",
    "data_descr"
   ]
  },
  {
   "cell_type": "code",
   "execution_count": 7,
   "metadata": {},
   "outputs": [
    {
     "data": {
      "text/html": [
       "<div>\n",
       "<style scoped>\n",
       "    .dataframe tbody tr th:only-of-type {\n",
       "        vertical-align: middle;\n",
       "    }\n",
       "\n",
       "    .dataframe tbody tr th {\n",
       "        vertical-align: top;\n",
       "    }\n",
       "\n",
       "    .dataframe thead th {\n",
       "        text-align: right;\n",
       "    }\n",
       "</style>\n",
       "<table border=\"1\" class=\"dataframe\">\n",
       "  <thead>\n",
       "    <tr style=\"text-align: right;\">\n",
       "      <th></th>\n",
       "      <th>question</th>\n",
       "      <th>descrirption</th>\n",
       "      <th>product_id</th>\n",
       "      <th>category_id</th>\n",
       "      <th>subcategory_id</th>\n",
       "      <th>properties</th>\n",
       "      <th>image_links</th>\n",
       "    </tr>\n",
       "  </thead>\n",
       "  <tbody>\n",
       "    <tr>\n",
       "      <th>0</th>\n",
       "      <td>Юбка детская ORBY</td>\n",
       "      <td>Новая, не носили ни разу. В реале красивей чем...</td>\n",
       "      <td>58e3cfe6132ca50e053f5f82</td>\n",
       "      <td>22.0</td>\n",
       "      <td>2211</td>\n",
       "      <td>{'detskie_razmer_rost': '81-86 (1,5 года)'}</td>\n",
       "      <td>http://cache3.youla.io/files/images/360_360/58...</td>\n",
       "    </tr>\n",
       "    <tr>\n",
       "      <th>1</th>\n",
       "      <td>Ботильоны</td>\n",
       "      <td>Новые,привезены из Чехии ,указан размер 40,но ...</td>\n",
       "      <td>5667531b2b7f8d127d838c34</td>\n",
       "      <td>9.0</td>\n",
       "      <td>902</td>\n",
       "      <td>{'zhenskaya_odezhda_tzvet': 'Зеленый', 'visota...</td>\n",
       "      <td>http://cache3.youla.io/files/images/360_360/5b...</td>\n",
       "    </tr>\n",
       "    <tr>\n",
       "      <th>2</th>\n",
       "      <td>Брюки</td>\n",
       "      <td>Размер 40-42. Брюки почти новые - не знаю как ...</td>\n",
       "      <td>59534826aaab284cba337e06</td>\n",
       "      <td>9.0</td>\n",
       "      <td>906</td>\n",
       "      <td>{'zhenskaya_odezhda_dzhinsy_bryuki_tip': 'Брюк...</td>\n",
       "      <td>http://cache3.youla.io/files/images/360_360/59...</td>\n",
       "    </tr>\n",
       "    <tr>\n",
       "      <th>3</th>\n",
       "      <td>Продам детские шапки</td>\n",
       "      <td>Продам шапки,кажда 200р.Розовая и белая проданны.</td>\n",
       "      <td>57de544096ad842e26de8027</td>\n",
       "      <td>22.0</td>\n",
       "      <td>2217</td>\n",
       "      <td>{'detskie_pol': 'Девочкам', 'detskaya_odezhda_...</td>\n",
       "      <td>http://cache3.youla.io/files/images/360_360/57...</td>\n",
       "    </tr>\n",
       "    <tr>\n",
       "      <th>4</th>\n",
       "      <td>Блузка</td>\n",
       "      <td>Темно-синяя, 42 размер,состояние отличное,как ...</td>\n",
       "      <td>5ad4d2626c86cb168d212022</td>\n",
       "      <td>9.0</td>\n",
       "      <td>907</td>\n",
       "      <td>{'zhenskaya_odezhda_tzvet': 'Синий', 'zhenskay...</td>\n",
       "      <td>http://cache3.youla.io/files/images/360_360/5a...</td>\n",
       "    </tr>\n",
       "  </tbody>\n",
       "</table>\n",
       "</div>"
      ],
      "text/plain": [
       "               question                                       descrirption  \\\n",
       "0     Юбка детская ORBY  Новая, не носили ни разу. В реале красивей чем...   \n",
       "1             Ботильоны  Новые,привезены из Чехии ,указан размер 40,но ...   \n",
       "2                 Брюки  Размер 40-42. Брюки почти новые - не знаю как ...   \n",
       "3  Продам детские шапки  Продам шапки,кажда 200р.Розовая и белая проданны.   \n",
       "4                Блузка  Темно-синяя, 42 размер,состояние отличное,как ...   \n",
       "\n",
       "                 product_id  category_id subcategory_id  \\\n",
       "0  58e3cfe6132ca50e053f5f82         22.0           2211   \n",
       "1  5667531b2b7f8d127d838c34          9.0            902   \n",
       "2  59534826aaab284cba337e06          9.0            906   \n",
       "3  57de544096ad842e26de8027         22.0           2217   \n",
       "4  5ad4d2626c86cb168d212022          9.0            907   \n",
       "\n",
       "                                          properties  \\\n",
       "0        {'detskie_razmer_rost': '81-86 (1,5 года)'}   \n",
       "1  {'zhenskaya_odezhda_tzvet': 'Зеленый', 'visota...   \n",
       "2  {'zhenskaya_odezhda_dzhinsy_bryuki_tip': 'Брюк...   \n",
       "3  {'detskie_pol': 'Девочкам', 'detskaya_odezhda_...   \n",
       "4  {'zhenskaya_odezhda_tzvet': 'Синий', 'zhenskay...   \n",
       "\n",
       "                                         image_links  \n",
       "0  http://cache3.youla.io/files/images/360_360/58...  \n",
       "1  http://cache3.youla.io/files/images/360_360/5b...  \n",
       "2  http://cache3.youla.io/files/images/360_360/59...  \n",
       "3  http://cache3.youla.io/files/images/360_360/57...  \n",
       "4  http://cache3.youla.io/files/images/360_360/5a...  "
      ]
     },
     "execution_count": 7,
     "metadata": {},
     "output_type": "execute_result"
    }
   ],
   "source": [
    "data = data.rename(columns={'title': 'question'})\n",
    "data.head(5)"
   ]
  },
  {
   "cell_type": "code",
   "execution_count": 8,
   "metadata": {},
   "outputs": [
    {
     "data": {
      "text/html": [
       "<div>\n",
       "<style scoped>\n",
       "    .dataframe tbody tr th:only-of-type {\n",
       "        vertical-align: middle;\n",
       "    }\n",
       "\n",
       "    .dataframe tbody tr th {\n",
       "        vertical-align: top;\n",
       "    }\n",
       "\n",
       "    .dataframe thead th {\n",
       "        text-align: right;\n",
       "    }\n",
       "</style>\n",
       "<table border=\"1\" class=\"dataframe\">\n",
       "  <thead>\n",
       "    <tr style=\"text-align: right;\">\n",
       "      <th></th>\n",
       "      <th>question</th>\n",
       "      <th>product_id</th>\n",
       "    </tr>\n",
       "  </thead>\n",
       "  <tbody>\n",
       "    <tr>\n",
       "      <th>0</th>\n",
       "      <td>Юбка детская ORBY</td>\n",
       "      <td>58e3cfe6132ca50e053f5f82</td>\n",
       "    </tr>\n",
       "    <tr>\n",
       "      <th>1</th>\n",
       "      <td>Ботильоны</td>\n",
       "      <td>5667531b2b7f8d127d838c34</td>\n",
       "    </tr>\n",
       "    <tr>\n",
       "      <th>2</th>\n",
       "      <td>Брюки</td>\n",
       "      <td>59534826aaab284cba337e06</td>\n",
       "    </tr>\n",
       "    <tr>\n",
       "      <th>3</th>\n",
       "      <td>Продам детские шапки</td>\n",
       "      <td>57de544096ad842e26de8027</td>\n",
       "    </tr>\n",
       "    <tr>\n",
       "      <th>4</th>\n",
       "      <td>Блузка</td>\n",
       "      <td>5ad4d2626c86cb168d212022</td>\n",
       "    </tr>\n",
       "    <tr>\n",
       "      <th>...</th>\n",
       "      <td>...</td>\n",
       "      <td>...</td>\n",
       "    </tr>\n",
       "    <tr>\n",
       "      <th>69077</th>\n",
       "      <td>Привезли из Европы, не подошло по размеру\\n\\nР...</td>\n",
       "      <td>5ac078a7938000715c0e2c38</td>\n",
       "    </tr>\n",
       "    <tr>\n",
       "      <th>69078</th>\n",
       "      <td>Юбка Белая по.Турция фирма adL</td>\n",
       "      <td>5b5f181c62e1c6616a7f6472</td>\n",
       "    </tr>\n",
       "    <tr>\n",
       "      <th>69079</th>\n",
       "      <td>Новый с бирками пиджак размер S в стиле Coco C...</td>\n",
       "      <td>5bd6c8b29e94ba033d31f8d0</td>\n",
       "    </tr>\n",
       "    <tr>\n",
       "      <th>69080</th>\n",
       "      <td>Женская зимняя спортивная куртка фирмы Rossiqn...</td>\n",
       "      <td>5bd6c8bc074b3e1c056f69b2</td>\n",
       "    </tr>\n",
       "    <tr>\n",
       "      <th>69081</th>\n",
       "      <td>Женская ветровка размер 44-46. Цвет приглушённ...</td>\n",
       "      <td>5bd6c8fb2138bbc55745362c</td>\n",
       "    </tr>\n",
       "  </tbody>\n",
       "</table>\n",
       "<p>69082 rows × 2 columns</p>\n",
       "</div>"
      ],
      "text/plain": [
       "                                                question  \\\n",
       "0                                      Юбка детская ORBY   \n",
       "1                                              Ботильоны   \n",
       "2                                                  Брюки   \n",
       "3                                   Продам детские шапки   \n",
       "4                                                 Блузка   \n",
       "...                                                  ...   \n",
       "69077  Привезли из Европы, не подошло по размеру\\n\\nР...   \n",
       "69078                     Юбка Белая по.Турция фирма adL   \n",
       "69079  Новый с бирками пиджак размер S в стиле Coco C...   \n",
       "69080  Женская зимняя спортивная куртка фирмы Rossiqn...   \n",
       "69081  Женская ветровка размер 44-46. Цвет приглушённ...   \n",
       "\n",
       "                     product_id  \n",
       "0      58e3cfe6132ca50e053f5f82  \n",
       "1      5667531b2b7f8d127d838c34  \n",
       "2      59534826aaab284cba337e06  \n",
       "3      57de544096ad842e26de8027  \n",
       "4      5ad4d2626c86cb168d212022  \n",
       "...                         ...  \n",
       "69077  5ac078a7938000715c0e2c38  \n",
       "69078  5b5f181c62e1c6616a7f6472  \n",
       "69079  5bd6c8b29e94ba033d31f8d0  \n",
       "69080  5bd6c8bc074b3e1c056f69b2  \n",
       "69081  5bd6c8fb2138bbc55745362c  \n",
       "\n",
       "[69082 rows x 2 columns]"
      ]
     },
     "execution_count": 8,
     "metadata": {},
     "output_type": "execute_result"
    }
   ],
   "source": [
    "data_title = pd.concat([data[['question', 'product_id']], data_descr[['question', 'product_id']]]).reset_index(drop=True)\n",
    "data_title"
   ]
  },
  {
   "cell_type": "code",
   "execution_count": 9,
   "metadata": {},
   "outputs": [
    {
     "data": {
      "text/html": [
       "<div>\n",
       "<style scoped>\n",
       "    .dataframe tbody tr th:only-of-type {\n",
       "        vertical-align: middle;\n",
       "    }\n",
       "\n",
       "    .dataframe tbody tr th {\n",
       "        vertical-align: top;\n",
       "    }\n",
       "\n",
       "    .dataframe thead th {\n",
       "        text-align: right;\n",
       "    }\n",
       "</style>\n",
       "<table border=\"1\" class=\"dataframe\">\n",
       "  <thead>\n",
       "    <tr style=\"text-align: right;\">\n",
       "      <th></th>\n",
       "      <th>question</th>\n",
       "      <th>answer</th>\n",
       "    </tr>\n",
       "  </thead>\n",
       "  <tbody>\n",
       "    <tr>\n",
       "      <th>0</th>\n",
       "      <td>Юбка детская ORBY</td>\n",
       "      <td>58e3cfe6132ca50e053f5f82</td>\n",
       "    </tr>\n",
       "    <tr>\n",
       "      <th>1</th>\n",
       "      <td>Ботильоны</td>\n",
       "      <td>5667531b2b7f8d127d838c34</td>\n",
       "    </tr>\n",
       "    <tr>\n",
       "      <th>2</th>\n",
       "      <td>Брюки</td>\n",
       "      <td>59534826aaab284cba337e06</td>\n",
       "    </tr>\n",
       "    <tr>\n",
       "      <th>3</th>\n",
       "      <td>Продам детские шапки</td>\n",
       "      <td>57de544096ad842e26de8027</td>\n",
       "    </tr>\n",
       "    <tr>\n",
       "      <th>4</th>\n",
       "      <td>Блузка</td>\n",
       "      <td>5ad4d2626c86cb168d212022</td>\n",
       "    </tr>\n",
       "    <tr>\n",
       "      <th>...</th>\n",
       "      <td>...</td>\n",
       "      <td>...</td>\n",
       "    </tr>\n",
       "    <tr>\n",
       "      <th>69077</th>\n",
       "      <td>Привезли из Европы, не подошло по размеру\\n\\nР...</td>\n",
       "      <td>5ac078a7938000715c0e2c38</td>\n",
       "    </tr>\n",
       "    <tr>\n",
       "      <th>69078</th>\n",
       "      <td>Юбка Белая по.Турция фирма adL</td>\n",
       "      <td>5b5f181c62e1c6616a7f6472</td>\n",
       "    </tr>\n",
       "    <tr>\n",
       "      <th>69079</th>\n",
       "      <td>Новый с бирками пиджак размер S в стиле Coco C...</td>\n",
       "      <td>5bd6c8b29e94ba033d31f8d0</td>\n",
       "    </tr>\n",
       "    <tr>\n",
       "      <th>69080</th>\n",
       "      <td>Женская зимняя спортивная куртка фирмы Rossiqn...</td>\n",
       "      <td>5bd6c8bc074b3e1c056f69b2</td>\n",
       "    </tr>\n",
       "    <tr>\n",
       "      <th>69081</th>\n",
       "      <td>Женская ветровка размер 44-46. Цвет приглушённ...</td>\n",
       "      <td>5bd6c8fb2138bbc55745362c</td>\n",
       "    </tr>\n",
       "  </tbody>\n",
       "</table>\n",
       "<p>69082 rows × 2 columns</p>\n",
       "</div>"
      ],
      "text/plain": [
       "                                                question  \\\n",
       "0                                      Юбка детская ORBY   \n",
       "1                                              Ботильоны   \n",
       "2                                                  Брюки   \n",
       "3                                   Продам детские шапки   \n",
       "4                                                 Блузка   \n",
       "...                                                  ...   \n",
       "69077  Привезли из Европы, не подошло по размеру\\n\\nР...   \n",
       "69078                     Юбка Белая по.Турция фирма adL   \n",
       "69079  Новый с бирками пиджак размер S в стиле Coco C...   \n",
       "69080  Женская зимняя спортивная куртка фирмы Rossiqn...   \n",
       "69081  Женская ветровка размер 44-46. Цвет приглушённ...   \n",
       "\n",
       "                         answer  \n",
       "0      58e3cfe6132ca50e053f5f82  \n",
       "1      5667531b2b7f8d127d838c34  \n",
       "2      59534826aaab284cba337e06  \n",
       "3      57de544096ad842e26de8027  \n",
       "4      5ad4d2626c86cb168d212022  \n",
       "...                         ...  \n",
       "69077  5ac078a7938000715c0e2c38  \n",
       "69078  5b5f181c62e1c6616a7f6472  \n",
       "69079  5bd6c8b29e94ba033d31f8d0  \n",
       "69080  5bd6c8bc074b3e1c056f69b2  \n",
       "69081  5bd6c8fb2138bbc55745362c  \n",
       "\n",
       "[69082 rows x 2 columns]"
      ]
     },
     "execution_count": 9,
     "metadata": {},
     "output_type": "execute_result"
    }
   ],
   "source": [
    "# Переименуем и выделим только нужные нам стобцы title и product_id\n",
    "data_title =data_title[['question', 'product_id']].rename(columns={'product_id': 'answer'})\n",
    "data_title"
   ]
  },
  {
   "cell_type": "code",
   "execution_count": 10,
   "metadata": {},
   "outputs": [
    {
     "data": {
      "text/html": [
       "<div>\n",
       "<style scoped>\n",
       "    .dataframe tbody tr th:only-of-type {\n",
       "        vertical-align: middle;\n",
       "    }\n",
       "\n",
       "    .dataframe tbody tr th {\n",
       "        vertical-align: top;\n",
       "    }\n",
       "\n",
       "    .dataframe thead th {\n",
       "        text-align: right;\n",
       "    }\n",
       "</style>\n",
       "<table border=\"1\" class=\"dataframe\">\n",
       "  <thead>\n",
       "    <tr style=\"text-align: right;\">\n",
       "      <th></th>\n",
       "      <th>question</th>\n",
       "      <th>answer</th>\n",
       "      <th>is_product</th>\n",
       "    </tr>\n",
       "  </thead>\n",
       "  <tbody>\n",
       "    <tr>\n",
       "      <th>0</th>\n",
       "      <td>Юбка детская ORBY</td>\n",
       "      <td>58e3cfe6132ca50e053f5f82</td>\n",
       "      <td>1</td>\n",
       "    </tr>\n",
       "    <tr>\n",
       "      <th>1</th>\n",
       "      <td>Ботильоны</td>\n",
       "      <td>5667531b2b7f8d127d838c34</td>\n",
       "      <td>1</td>\n",
       "    </tr>\n",
       "    <tr>\n",
       "      <th>2</th>\n",
       "      <td>Брюки</td>\n",
       "      <td>59534826aaab284cba337e06</td>\n",
       "      <td>1</td>\n",
       "    </tr>\n",
       "    <tr>\n",
       "      <th>3</th>\n",
       "      <td>Продам детские шапки</td>\n",
       "      <td>57de544096ad842e26de8027</td>\n",
       "      <td>1</td>\n",
       "    </tr>\n",
       "    <tr>\n",
       "      <th>4</th>\n",
       "      <td>Блузка</td>\n",
       "      <td>5ad4d2626c86cb168d212022</td>\n",
       "      <td>1</td>\n",
       "    </tr>\n",
       "  </tbody>\n",
       "</table>\n",
       "</div>"
      ],
      "text/plain": [
       "               question                    answer  is_product\n",
       "0     Юбка детская ORBY  58e3cfe6132ca50e053f5f82           1\n",
       "1             Ботильоны  5667531b2b7f8d127d838c34           1\n",
       "2                 Брюки  59534826aaab284cba337e06           1\n",
       "3  Продам детские шапки  57de544096ad842e26de8027           1\n",
       "4                Блузка  5ad4d2626c86cb168d212022           1"
      ]
     },
     "execution_count": 10,
     "metadata": {},
     "output_type": "execute_result"
    }
   ],
   "source": [
    "# Добавим колонку с признаком, что это запрос по товару\n",
    "data_title['is_product'] = 1\n",
    "data_title.head(5)"
   ]
  },
  {
   "cell_type": "markdown",
   "metadata": {
    "id": "DrdA0HmPP5Oj"
   },
   "source": [
    "# Предобработаем ответы mail.ru из файла: к каждому вопросу присоединим 1 ответ и запишем в файл на будущее. Это позволит нам сэкономить время и ресурсы при дальнейшем препроцессинге текста"
   ]
  },
  {
   "cell_type": "code",
   "execution_count": 11,
   "metadata": {
    "id": "Ul4dgvpnP5Ol"
   },
   "outputs": [
    {
     "data": {
      "application/vnd.jupyter.widget-view+json": {
       "model_id": "6af4205006ba45a7aa84149122914844",
       "version_major": 2,
       "version_minor": 0
      },
      "text/plain": [
       "0it [00:00, ?it/s]"
      ]
     },
     "metadata": {},
     "output_type": "display_data"
    }
   ],
   "source": [
    "question = None\n",
    "written = False\n",
    "\n",
    "#Мы идем по всем записям, берем первую строку как вопрос\n",
    "# и после знака --- находим ответ\n",
    "with codecs.open(\"prepared_answers.txt\", \"w\", \"utf-8\") as fout:\n",
    "    with codecs.open(\"Otvety.txt\", \"r\", \"utf-8\") as fin:\n",
    "        for line in tqdm(fin):\n",
    "            if line.startswith(\"---\"):\n",
    "                written = False\n",
    "                continue\n",
    "            if not written and question is not None:\n",
    "                fout.write(question.replace(\"\\t\", \" \").strip() + \"\\t\" + line.replace(\"\\t\", \" \"))\n",
    "                written = True\n",
    "                question = None\n",
    "                continue\n",
    "            if not written:\n",
    "                question = line.strip()\n",
    "                continue"
   ]
  },
  {
   "cell_type": "markdown",
   "metadata": {
    "id": "Hw5tHi8bP5Om"
   },
   "source": [
    "Теперь нам нужно предобработать текст, чтобы обучить word2vec и получить эмбеддинги. Удаляем знаки препинания и делаем лемматизацию"
   ]
  },
  {
   "cell_type": "code",
   "execution_count": 12,
   "metadata": {},
   "outputs": [
    {
     "data": {
      "text/plain": [
       "0          \\tвопрос о ТДВ)) давно и хорошо отдыхаем)) ЛИЧ...\n",
       "1          Как парни относятся к цветным линзам? Если у д...\n",
       "2          Что делать, сегодня нашёл 2 миллиона рублей? ....\n",
       "3          Эбу в двенашке называется Итэлма что за эбу? ....\n",
       "4          академия вампиров. сколько на даный момент час...\n",
       "                                 ...                        \n",
       "1163337    Между словами ПРЕЗИДЕНТ и РЕЗИДЕНТ есть что ли...\n",
       "1163338    \"Если это мое, то оно никуда от меня не денетс...\n",
       "1163339    А Вы халяву любите или совесть имеете???) .\\tЛ...\n",
       "1163340    Так много разных гороскопов кто-нибудь может п...\n",
       "1163341    В пылу страстей она сломала мне вставную челюс...\n",
       "Length: 1163342, dtype: object"
      ]
     },
     "execution_count": 12,
     "metadata": {},
     "output_type": "execute_result"
    }
   ],
   "source": [
    "with codecs.open(\"prepared_answers.txt\", \"r\", \"utf-8\") as f:\n",
    "    data_answers = pd.Series(f)\n",
    "data_answers"
   ]
  },
  {
   "cell_type": "code",
   "execution_count": 13,
   "metadata": {},
   "outputs": [
    {
     "data": {
      "text/plain": [
       "'\\tвопрос о ТДВ)) давно и хорошо отдыхаем)) ЛИЧНО ВАМ здесь кого советовали завести?)) . \\n'"
      ]
     },
     "execution_count": 13,
     "metadata": {},
     "output_type": "execute_result"
    }
   ],
   "source": [
    "data_answers[0]"
   ]
  },
  {
   "cell_type": "code",
   "execution_count": 16,
   "metadata": {},
   "outputs": [],
   "source": [
    "def q_a_to_lst(data):\n",
    "    '''\n",
    "    Функция разделяет вопрос и ответ из текстового файла\n",
    "    '''\n",
    "    result = []\n",
    "    for i in tqdm(data):\n",
    "        spls = i.split(\"\\t\")\n",
    "        result.append(spls)\n",
    "    return result"
   ]
  },
  {
   "cell_type": "code",
   "execution_count": 17,
   "metadata": {},
   "outputs": [
    {
     "data": {
      "application/vnd.jupyter.widget-view+json": {
       "model_id": "65ffb7daf1124b54abaf8971567fc7f0",
       "version_major": 2,
       "version_minor": 0
      },
      "text/plain": [
       "  0%|          | 0/1163342 [00:00<?, ?it/s]"
      ]
     },
     "metadata": {},
     "output_type": "display_data"
    },
    {
     "data": {
      "text/html": [
       "<div>\n",
       "<style scoped>\n",
       "    .dataframe tbody tr th:only-of-type {\n",
       "        vertical-align: middle;\n",
       "    }\n",
       "\n",
       "    .dataframe tbody tr th {\n",
       "        vertical-align: top;\n",
       "    }\n",
       "\n",
       "    .dataframe thead th {\n",
       "        text-align: right;\n",
       "    }\n",
       "</style>\n",
       "<table border=\"1\" class=\"dataframe\">\n",
       "  <thead>\n",
       "    <tr style=\"text-align: right;\">\n",
       "      <th></th>\n",
       "      <th>question</th>\n",
       "      <th>answer</th>\n",
       "    </tr>\n",
       "  </thead>\n",
       "  <tbody>\n",
       "    <tr>\n",
       "      <th>0</th>\n",
       "      <td></td>\n",
       "      <td>вопрос о ТДВ)) давно и хорошо отдыхаем)) ЛИЧНО...</td>\n",
       "    </tr>\n",
       "    <tr>\n",
       "      <th>1</th>\n",
       "      <td>Как парни относятся к цветным линзам? Если у д...</td>\n",
       "      <td>меня вобще прикалывает эта тема :). \\n</td>\n",
       "    </tr>\n",
       "    <tr>\n",
       "      <th>2</th>\n",
       "      <td>Что делать, сегодня нашёл 2 миллиона рублей? .</td>\n",
       "      <td>Если это \"счастье \" действительно на вас свали...</td>\n",
       "    </tr>\n",
       "    <tr>\n",
       "      <th>3</th>\n",
       "      <td>Эбу в двенашке называется Итэлма что за эбу? .</td>\n",
       "      <td>ЭБУ — электронный блок управления двигателем а...</td>\n",
       "    </tr>\n",
       "    <tr>\n",
       "      <th>4</th>\n",
       "      <td>академия вампиров. сколько на даный момент час...</td>\n",
       "      <td>4. Охотники и Жертвы, Ледяной укус, Поцелуй ть...</td>\n",
       "    </tr>\n",
       "    <tr>\n",
       "      <th>...</th>\n",
       "      <td>...</td>\n",
       "      <td>...</td>\n",
       "    </tr>\n",
       "    <tr>\n",
       "      <th>1163337</th>\n",
       "      <td>Между словами ПРЕЗИДЕНТ и РЕЗИДЕНТ есть что ли...</td>\n",
       "      <td>Конечно, есть. Оба эти слова пришли из латыни,...</td>\n",
       "    </tr>\n",
       "    <tr>\n",
       "      <th>1163338</th>\n",
       "      <td>\"Если это мое, то оно никуда от меня не денетс...</td>\n",
       "      <td>Если плохо обращаться со СВОЕЙ собакой, она сд...</td>\n",
       "    </tr>\n",
       "    <tr>\n",
       "      <th>1163339</th>\n",
       "      <td>А Вы халяву любите или совесть имеете???) .</td>\n",
       "      <td>Люблю, но нет её.. \\n</td>\n",
       "    </tr>\n",
       "    <tr>\n",
       "      <th>1163340</th>\n",
       "      <td>Так много разных гороскопов кто-нибудь может п...</td>\n",
       "      <td>[ссылка заблокирована по решению администрации...</td>\n",
       "    </tr>\n",
       "    <tr>\n",
       "      <th>1163341</th>\n",
       "      <td>В пылу страстей она сломала мне вставную челюс...</td>\n",
       "      <td>Ничего, дорогого Леонида Ильича слушали, и теб...</td>\n",
       "    </tr>\n",
       "  </tbody>\n",
       "</table>\n",
       "<p>1163342 rows × 2 columns</p>\n",
       "</div>"
      ],
      "text/plain": [
       "                                                  question  \\\n",
       "0                                                            \n",
       "1        Как парни относятся к цветным линзам? Если у д...   \n",
       "2           Что делать, сегодня нашёл 2 миллиона рублей? .   \n",
       "3           Эбу в двенашке называется Итэлма что за эбу? .   \n",
       "4        академия вампиров. сколько на даный момент час...   \n",
       "...                                                    ...   \n",
       "1163337  Между словами ПРЕЗИДЕНТ и РЕЗИДЕНТ есть что ли...   \n",
       "1163338  \"Если это мое, то оно никуда от меня не денетс...   \n",
       "1163339        А Вы халяву любите или совесть имеете???) .   \n",
       "1163340  Так много разных гороскопов кто-нибудь может п...   \n",
       "1163341  В пылу страстей она сломала мне вставную челюс...   \n",
       "\n",
       "                                                    answer  \n",
       "0        вопрос о ТДВ)) давно и хорошо отдыхаем)) ЛИЧНО...  \n",
       "1                   меня вобще прикалывает эта тема :). \\n  \n",
       "2        Если это \"счастье \" действительно на вас свали...  \n",
       "3        ЭБУ — электронный блок управления двигателем а...  \n",
       "4        4. Охотники и Жертвы, Ледяной укус, Поцелуй ть...  \n",
       "...                                                    ...  \n",
       "1163337  Конечно, есть. Оба эти слова пришли из латыни,...  \n",
       "1163338  Если плохо обращаться со СВОЕЙ собакой, она сд...  \n",
       "1163339                              Люблю, но нет её.. \\n  \n",
       "1163340  [ссылка заблокирована по решению администрации...  \n",
       "1163341  Ничего, дорогого Леонида Ильича слушали, и теб...  \n",
       "\n",
       "[1163342 rows x 2 columns]"
      ]
     },
     "execution_count": 17,
     "metadata": {},
     "output_type": "execute_result"
    }
   ],
   "source": [
    "data_answers = pd.DataFrame(q_a_to_lst(data_answers), columns=['question', 'answer'])\n",
    "data_answers"
   ]
  },
  {
   "cell_type": "code",
   "execution_count": 18,
   "metadata": {},
   "outputs": [
    {
     "data": {
      "text/html": [
       "<div>\n",
       "<style scoped>\n",
       "    .dataframe tbody tr th:only-of-type {\n",
       "        vertical-align: middle;\n",
       "    }\n",
       "\n",
       "    .dataframe tbody tr th {\n",
       "        vertical-align: top;\n",
       "    }\n",
       "\n",
       "    .dataframe thead th {\n",
       "        text-align: right;\n",
       "    }\n",
       "</style>\n",
       "<table border=\"1\" class=\"dataframe\">\n",
       "  <thead>\n",
       "    <tr style=\"text-align: right;\">\n",
       "      <th></th>\n",
       "      <th>question</th>\n",
       "      <th>answer</th>\n",
       "      <th>is_product</th>\n",
       "    </tr>\n",
       "  </thead>\n",
       "  <tbody>\n",
       "    <tr>\n",
       "      <th>0</th>\n",
       "      <td></td>\n",
       "      <td>вопрос о ТДВ)) давно и хорошо отдыхаем)) ЛИЧНО...</td>\n",
       "      <td>0</td>\n",
       "    </tr>\n",
       "    <tr>\n",
       "      <th>1</th>\n",
       "      <td>Как парни относятся к цветным линзам? Если у д...</td>\n",
       "      <td>меня вобще прикалывает эта тема :). \\n</td>\n",
       "      <td>0</td>\n",
       "    </tr>\n",
       "    <tr>\n",
       "      <th>2</th>\n",
       "      <td>Что делать, сегодня нашёл 2 миллиона рублей? .</td>\n",
       "      <td>Если это \"счастье \" действительно на вас свали...</td>\n",
       "      <td>0</td>\n",
       "    </tr>\n",
       "    <tr>\n",
       "      <th>3</th>\n",
       "      <td>Эбу в двенашке называется Итэлма что за эбу? .</td>\n",
       "      <td>ЭБУ — электронный блок управления двигателем а...</td>\n",
       "      <td>0</td>\n",
       "    </tr>\n",
       "    <tr>\n",
       "      <th>4</th>\n",
       "      <td>академия вампиров. сколько на даный момент час...</td>\n",
       "      <td>4. Охотники и Жертвы, Ледяной укус, Поцелуй ть...</td>\n",
       "      <td>0</td>\n",
       "    </tr>\n",
       "    <tr>\n",
       "      <th>...</th>\n",
       "      <td>...</td>\n",
       "      <td>...</td>\n",
       "      <td>...</td>\n",
       "    </tr>\n",
       "    <tr>\n",
       "      <th>1163337</th>\n",
       "      <td>Между словами ПРЕЗИДЕНТ и РЕЗИДЕНТ есть что ли...</td>\n",
       "      <td>Конечно, есть. Оба эти слова пришли из латыни,...</td>\n",
       "      <td>0</td>\n",
       "    </tr>\n",
       "    <tr>\n",
       "      <th>1163338</th>\n",
       "      <td>\"Если это мое, то оно никуда от меня не денетс...</td>\n",
       "      <td>Если плохо обращаться со СВОЕЙ собакой, она сд...</td>\n",
       "      <td>0</td>\n",
       "    </tr>\n",
       "    <tr>\n",
       "      <th>1163339</th>\n",
       "      <td>А Вы халяву любите или совесть имеете???) .</td>\n",
       "      <td>Люблю, но нет её.. \\n</td>\n",
       "      <td>0</td>\n",
       "    </tr>\n",
       "    <tr>\n",
       "      <th>1163340</th>\n",
       "      <td>Так много разных гороскопов кто-нибудь может п...</td>\n",
       "      <td>[ссылка заблокирована по решению администрации...</td>\n",
       "      <td>0</td>\n",
       "    </tr>\n",
       "    <tr>\n",
       "      <th>1163341</th>\n",
       "      <td>В пылу страстей она сломала мне вставную челюс...</td>\n",
       "      <td>Ничего, дорогого Леонида Ильича слушали, и теб...</td>\n",
       "      <td>0</td>\n",
       "    </tr>\n",
       "  </tbody>\n",
       "</table>\n",
       "<p>1163342 rows × 3 columns</p>\n",
       "</div>"
      ],
      "text/plain": [
       "                                                  question  \\\n",
       "0                                                            \n",
       "1        Как парни относятся к цветным линзам? Если у д...   \n",
       "2           Что делать, сегодня нашёл 2 миллиона рублей? .   \n",
       "3           Эбу в двенашке называется Итэлма что за эбу? .   \n",
       "4        академия вампиров. сколько на даный момент час...   \n",
       "...                                                    ...   \n",
       "1163337  Между словами ПРЕЗИДЕНТ и РЕЗИДЕНТ есть что ли...   \n",
       "1163338  \"Если это мое, то оно никуда от меня не денетс...   \n",
       "1163339        А Вы халяву любите или совесть имеете???) .   \n",
       "1163340  Так много разных гороскопов кто-нибудь может п...   \n",
       "1163341  В пылу страстей она сломала мне вставную челюс...   \n",
       "\n",
       "                                                    answer  is_product  \n",
       "0        вопрос о ТДВ)) давно и хорошо отдыхаем)) ЛИЧНО...           0  \n",
       "1                   меня вобще прикалывает эта тема :). \\n           0  \n",
       "2        Если это \"счастье \" действительно на вас свали...           0  \n",
       "3        ЭБУ — электронный блок управления двигателем а...           0  \n",
       "4        4. Охотники и Жертвы, Ледяной укус, Поцелуй ть...           0  \n",
       "...                                                    ...         ...  \n",
       "1163337  Конечно, есть. Оба эти слова пришли из латыни,...           0  \n",
       "1163338  Если плохо обращаться со СВОЕЙ собакой, она сд...           0  \n",
       "1163339                              Люблю, но нет её.. \\n           0  \n",
       "1163340  [ссылка заблокирована по решению администрации...           0  \n",
       "1163341  Ничего, дорогого Леонида Ильича слушали, и теб...           0  \n",
       "\n",
       "[1163342 rows x 3 columns]"
      ]
     },
     "execution_count": 18,
     "metadata": {},
     "output_type": "execute_result"
    }
   ],
   "source": [
    "data_answers['is_product'] = 0\n",
    "data_answers"
   ]
  },
  {
   "cell_type": "markdown",
   "metadata": {},
   "source": [
    "По нашим данных видно, что длина датасета с вопросами гораздо длинее, чем датасет с товарами. Попробуем сделать простой случайный сэмплинг для датасета с вопросами, чтобы сбалансировать данные по классам для обучения модели."
   ]
  },
  {
   "cell_type": "code",
   "execution_count": 19,
   "metadata": {},
   "outputs": [
    {
     "name": "stdout",
     "output_type": "stream",
     "text": [
      "(69082, 3)\n"
     ]
    }
   ],
   "source": [
    "data_answers_sample = data_answers.sample(len(data_title))\n",
    "print(data_answers_sample.shape)"
   ]
  },
  {
   "cell_type": "markdown",
   "metadata": {},
   "source": [
    "Обьединим датасеты в один"
   ]
  },
  {
   "cell_type": "code",
   "execution_count": 20,
   "metadata": {},
   "outputs": [
    {
     "data": {
      "text/html": [
       "<div>\n",
       "<style scoped>\n",
       "    .dataframe tbody tr th:only-of-type {\n",
       "        vertical-align: middle;\n",
       "    }\n",
       "\n",
       "    .dataframe tbody tr th {\n",
       "        vertical-align: top;\n",
       "    }\n",
       "\n",
       "    .dataframe thead th {\n",
       "        text-align: right;\n",
       "    }\n",
       "</style>\n",
       "<table border=\"1\" class=\"dataframe\">\n",
       "  <thead>\n",
       "    <tr style=\"text-align: right;\">\n",
       "      <th></th>\n",
       "      <th>question</th>\n",
       "      <th>answer</th>\n",
       "      <th>is_product</th>\n",
       "    </tr>\n",
       "  </thead>\n",
       "  <tbody>\n",
       "    <tr>\n",
       "      <th>0</th>\n",
       "      <td>Юбка детская ORBY</td>\n",
       "      <td>58e3cfe6132ca50e053f5f82</td>\n",
       "      <td>1</td>\n",
       "    </tr>\n",
       "    <tr>\n",
       "      <th>1</th>\n",
       "      <td>Ботильоны</td>\n",
       "      <td>5667531b2b7f8d127d838c34</td>\n",
       "      <td>1</td>\n",
       "    </tr>\n",
       "    <tr>\n",
       "      <th>2</th>\n",
       "      <td>Брюки</td>\n",
       "      <td>59534826aaab284cba337e06</td>\n",
       "      <td>1</td>\n",
       "    </tr>\n",
       "    <tr>\n",
       "      <th>3</th>\n",
       "      <td>Продам детские шапки</td>\n",
       "      <td>57de544096ad842e26de8027</td>\n",
       "      <td>1</td>\n",
       "    </tr>\n",
       "    <tr>\n",
       "      <th>4</th>\n",
       "      <td>Блузка</td>\n",
       "      <td>5ad4d2626c86cb168d212022</td>\n",
       "      <td>1</td>\n",
       "    </tr>\n",
       "    <tr>\n",
       "      <th>...</th>\n",
       "      <td>...</td>\n",
       "      <td>...</td>\n",
       "      <td>...</td>\n",
       "    </tr>\n",
       "    <tr>\n",
       "      <th>138159</th>\n",
       "      <td>Как отказать мужчине в сексе, чтобы не отбить ...</td>\n",
       "      <td>В настоящее время на \"вооружении\" женщин есть ...</td>\n",
       "      <td>0</td>\n",
       "    </tr>\n",
       "    <tr>\n",
       "      <th>138160</th>\n",
       "      <td>НАЦИЯ которую ВСЕ НЕочень??? .</td>\n",
       "      <td>евреи естественно, во все века гонимые и пресл...</td>\n",
       "      <td>0</td>\n",
       "    </tr>\n",
       "    <tr>\n",
       "      <th>138161</th>\n",
       "      <td>Кто это? .</td>\n",
       "      <td>Miriam Shor. \\n</td>\n",
       "      <td>0</td>\n",
       "    </tr>\n",
       "    <tr>\n",
       "      <th>138162</th>\n",
       "      <td>Боярченков, Михаил Александрович.</td>\n",
       "      <td>&lt;p&gt;Михаил Александрович Боярченков (9 ноября 1...</td>\n",
       "      <td>0</td>\n",
       "    </tr>\n",
       "    <tr>\n",
       "      <th>138163</th>\n",
       "      <td>Хочу отомстить другу...Подскажите какая прога ...</td>\n",
       "      <td>Не стоит.. . Будьте умней. \\n</td>\n",
       "      <td>0</td>\n",
       "    </tr>\n",
       "  </tbody>\n",
       "</table>\n",
       "<p>138164 rows × 3 columns</p>\n",
       "</div>"
      ],
      "text/plain": [
       "                                                 question  \\\n",
       "0                                       Юбка детская ORBY   \n",
       "1                                               Ботильоны   \n",
       "2                                                   Брюки   \n",
       "3                                    Продам детские шапки   \n",
       "4                                                  Блузка   \n",
       "...                                                   ...   \n",
       "138159  Как отказать мужчине в сексе, чтобы не отбить ...   \n",
       "138160                     НАЦИЯ которую ВСЕ НЕочень??? .   \n",
       "138161                                         Кто это? .   \n",
       "138162                  Боярченков, Михаил Александрович.   \n",
       "138163  Хочу отомстить другу...Подскажите какая прога ...   \n",
       "\n",
       "                                                   answer  is_product  \n",
       "0                                58e3cfe6132ca50e053f5f82           1  \n",
       "1                                5667531b2b7f8d127d838c34           1  \n",
       "2                                59534826aaab284cba337e06           1  \n",
       "3                                57de544096ad842e26de8027           1  \n",
       "4                                5ad4d2626c86cb168d212022           1  \n",
       "...                                                   ...         ...  \n",
       "138159  В настоящее время на \"вооружении\" женщин есть ...           0  \n",
       "138160  евреи естественно, во все века гонимые и пресл...           0  \n",
       "138161                                    Miriam Shor. \\n           0  \n",
       "138162  <p>Михаил Александрович Боярченков (9 ноября 1...           0  \n",
       "138163                      Не стоит.. . Будьте умней. \\n           0  \n",
       "\n",
       "[138164 rows x 3 columns]"
      ]
     },
     "execution_count": 20,
     "metadata": {},
     "output_type": "execute_result"
    }
   ],
   "source": [
    "data_train = pd.concat([data_title, data_answers_sample]).reset_index(drop=True)\n",
    "data_train"
   ]
  },
  {
   "cell_type": "code",
   "execution_count": 21,
   "metadata": {},
   "outputs": [],
   "source": [
    "def preprocess_txt(line):\n",
    "    spls = \"\".join(i for i in line.strip() if i not in exclude).split()\n",
    "    spls = [morpher.parse(i.lower())[0].normal_form for i in spls]\n",
    "    spls = [i for i in spls if i not in sw and i != \"\"]\n",
    "    spls = \", \".join(spls)\n",
    "    return spls"
   ]
  },
  {
   "cell_type": "code",
   "execution_count": 22,
   "metadata": {},
   "outputs": [
    {
     "data": {
      "text/html": [
       "<div>\n",
       "<style scoped>\n",
       "    .dataframe tbody tr th:only-of-type {\n",
       "        vertical-align: middle;\n",
       "    }\n",
       "\n",
       "    .dataframe tbody tr th {\n",
       "        vertical-align: top;\n",
       "    }\n",
       "\n",
       "    .dataframe thead th {\n",
       "        text-align: right;\n",
       "    }\n",
       "</style>\n",
       "<table border=\"1\" class=\"dataframe\">\n",
       "  <thead>\n",
       "    <tr style=\"text-align: right;\">\n",
       "      <th></th>\n",
       "      <th>question</th>\n",
       "      <th>answer</th>\n",
       "      <th>is_product</th>\n",
       "    </tr>\n",
       "  </thead>\n",
       "  <tbody>\n",
       "    <tr>\n",
       "      <th>0</th>\n",
       "      <td>юбка, детский, orby</td>\n",
       "      <td>58e3cfe6132ca50e053f5f82</td>\n",
       "      <td>1</td>\n",
       "    </tr>\n",
       "    <tr>\n",
       "      <th>1</th>\n",
       "      <td>ботильон</td>\n",
       "      <td>5667531b2b7f8d127d838c34</td>\n",
       "      <td>1</td>\n",
       "    </tr>\n",
       "    <tr>\n",
       "      <th>2</th>\n",
       "      <td>брюки</td>\n",
       "      <td>59534826aaab284cba337e06</td>\n",
       "      <td>1</td>\n",
       "    </tr>\n",
       "    <tr>\n",
       "      <th>3</th>\n",
       "      <td>продать, детский, шапка</td>\n",
       "      <td>57de544096ad842e26de8027</td>\n",
       "      <td>1</td>\n",
       "    </tr>\n",
       "    <tr>\n",
       "      <th>4</th>\n",
       "      <td>блузка</td>\n",
       "      <td>5ad4d2626c86cb168d212022</td>\n",
       "      <td>1</td>\n",
       "    </tr>\n",
       "    <tr>\n",
       "      <th>...</th>\n",
       "      <td>...</td>\n",
       "      <td>...</td>\n",
       "      <td>...</td>\n",
       "    </tr>\n",
       "    <tr>\n",
       "      <th>138159</th>\n",
       "      <td>отказать, мужчина, секс, отбить, желание, ухаж...</td>\n",
       "      <td>В настоящее время на \"вооружении\" женщин есть ...</td>\n",
       "      <td>0</td>\n",
       "    </tr>\n",
       "    <tr>\n",
       "      <th>138160</th>\n",
       "      <td>нация, неочень</td>\n",
       "      <td>евреи естественно, во все века гонимые и пресл...</td>\n",
       "      <td>0</td>\n",
       "    </tr>\n",
       "    <tr>\n",
       "      <th>138161</th>\n",
       "      <td></td>\n",
       "      <td>Miriam Shor. \\n</td>\n",
       "      <td>0</td>\n",
       "    </tr>\n",
       "    <tr>\n",
       "      <th>138162</th>\n",
       "      <td>боярченков, михаил, александрович</td>\n",
       "      <td>&lt;p&gt;Михаил Александрович Боярченков (9 ноября 1...</td>\n",
       "      <td>0</td>\n",
       "    </tr>\n",
       "    <tr>\n",
       "      <th>138163</th>\n",
       "      <td>отомстить, другуподсказать, прога, помочь, пои...</td>\n",
       "      <td>Не стоит.. . Будьте умней. \\n</td>\n",
       "      <td>0</td>\n",
       "    </tr>\n",
       "  </tbody>\n",
       "</table>\n",
       "<p>138164 rows × 3 columns</p>\n",
       "</div>"
      ],
      "text/plain": [
       "                                                 question  \\\n",
       "0                                     юбка, детский, orby   \n",
       "1                                                ботильон   \n",
       "2                                                   брюки   \n",
       "3                                 продать, детский, шапка   \n",
       "4                                                  блузка   \n",
       "...                                                   ...   \n",
       "138159  отказать, мужчина, секс, отбить, желание, ухаж...   \n",
       "138160                                     нация, неочень   \n",
       "138161                                                      \n",
       "138162                  боярченков, михаил, александрович   \n",
       "138163  отомстить, другуподсказать, прога, помочь, пои...   \n",
       "\n",
       "                                                   answer  is_product  \n",
       "0                                58e3cfe6132ca50e053f5f82           1  \n",
       "1                                5667531b2b7f8d127d838c34           1  \n",
       "2                                59534826aaab284cba337e06           1  \n",
       "3                                57de544096ad842e26de8027           1  \n",
       "4                                5ad4d2626c86cb168d212022           1  \n",
       "...                                                   ...         ...  \n",
       "138159  В настоящее время на \"вооружении\" женщин есть ...           0  \n",
       "138160  евреи естественно, во все века гонимые и пресл...           0  \n",
       "138161                                    Miriam Shor. \\n           0  \n",
       "138162  <p>Михаил Александрович Боярченков (9 ноября 1...           0  \n",
       "138163                      Не стоит.. . Будьте умней. \\n           0  \n",
       "\n",
       "[138164 rows x 3 columns]"
      ]
     },
     "execution_count": 22,
     "metadata": {},
     "output_type": "execute_result"
    }
   ],
   "source": [
    "# Предбработаем колонку с question, удаляем знаки препинания и делаем лемматизацию\n",
    "morpher = MorphAnalyzer()\n",
    "sw = set(get_stop_words(\"ru\"))\n",
    "exclude = set(string.punctuation)\n",
    "\n",
    "data_train['question'] = data_train['question'].apply(lambda x: preprocess_txt(x))\n",
    "data_train"
   ]
  },
  {
   "cell_type": "markdown",
   "metadata": {},
   "source": [
    "# Обучим классификатор"
   ]
  },
  {
   "cell_type": "markdown",
   "metadata": {},
   "source": [
    "Подготовим данные для обучения"
   ]
  },
  {
   "cell_type": "code",
   "execution_count": 23,
   "metadata": {},
   "outputs": [],
   "source": [
    "X = data_train['question']\n",
    "y = data_train['is_product']"
   ]
  },
  {
   "cell_type": "code",
   "execution_count": 24,
   "metadata": {},
   "outputs": [],
   "source": [
    "# Разделим данные на тренировочную и тестовую выборку\n",
    "X_train, X_test, y_train, y_test = train_test_split(X, y, test_size=0.2, shuffle=True)"
   ]
  },
  {
   "cell_type": "code",
   "execution_count": 25,
   "metadata": {},
   "outputs": [],
   "source": [
    "# Сделаем векторизацию текста\n",
    "tfidf_vec = TfidfVectorizer().fit(X_train.values)\n",
    "X_train_tfidf = tfidf_vec.transform(X_train)\n",
    "X_test_tfidf = tfidf_vec.transform(X_test)"
   ]
  },
  {
   "cell_type": "code",
   "execution_count": 26,
   "metadata": {},
   "outputs": [],
   "source": [
    "# Сохраним модель в файл и загрузим: \n",
    "with open('ChatBotPractice_tfidf.pkl', 'wb') as output:\n",
    "    pickle.dump(tfidf_vec, output) #Сохраняем\n",
    "\n",
    "with open('ChatBotPractice_tfidf.pkl', 'rb') as pkl_file:\n",
    "    model_tfidf_vec = pickle.load(pkl_file) #Загружаем"
   ]
  },
  {
   "cell_type": "markdown",
   "metadata": {},
   "source": [
    "#### LogisticRegression"
   ]
  },
  {
   "cell_type": "code",
   "execution_count": 27,
   "metadata": {},
   "outputs": [
    {
     "data": {
      "text/plain": [
       "LogisticRegression()"
      ]
     },
     "execution_count": 27,
     "metadata": {},
     "output_type": "execute_result"
    }
   ],
   "source": [
    "model = LogisticRegression()\n",
    "model.fit(X_train_tfidf, y_train)"
   ]
  },
  {
   "cell_type": "code",
   "execution_count": 28,
   "metadata": {},
   "outputs": [],
   "source": [
    "predictions = model.predict(X_test_tfidf)"
   ]
  },
  {
   "cell_type": "code",
   "execution_count": 29,
   "metadata": {},
   "outputs": [
    {
     "name": "stdout",
     "output_type": "stream",
     "text": [
      "Accuracy LogisticRegression:  0.9667426627582962\n"
     ]
    }
   ],
   "source": [
    "print('Accuracy LogisticRegression: ', accuracy_score(y_test, predictions))"
   ]
  },
  {
   "cell_type": "markdown",
   "metadata": {},
   "source": [
    "#### LinearSVC"
   ]
  },
  {
   "cell_type": "code",
   "execution_count": 30,
   "metadata": {},
   "outputs": [
    {
     "data": {
      "text/plain": [
       "LinearSVC()"
      ]
     },
     "execution_count": 30,
     "metadata": {},
     "output_type": "execute_result"
    }
   ],
   "source": [
    "model2 = LinearSVC()\n",
    "model2.fit(X_train_tfidf, y_train)"
   ]
  },
  {
   "cell_type": "code",
   "execution_count": 31,
   "metadata": {},
   "outputs": [],
   "source": [
    "predictions2 = model2.predict(X_test_tfidf)"
   ]
  },
  {
   "cell_type": "code",
   "execution_count": 32,
   "metadata": {},
   "outputs": [
    {
     "name": "stdout",
     "output_type": "stream",
     "text": [
      "Accuracy LinearSVC:  0.9749936669923642\n"
     ]
    }
   ],
   "source": [
    "print('Accuracy LinearSVC: ', accuracy_score(y_test, predictions2))"
   ]
  },
  {
   "cell_type": "markdown",
   "metadata": {},
   "source": [
    "#### RandomForestClassifier"
   ]
  },
  {
   "cell_type": "code",
   "execution_count": 33,
   "metadata": {},
   "outputs": [
    {
     "data": {
      "text/plain": [
       "RandomForestClassifier()"
      ]
     },
     "execution_count": 33,
     "metadata": {},
     "output_type": "execute_result"
    }
   ],
   "source": [
    "model3 = RandomForestClassifier()\n",
    "model3.fit(X_train_tfidf, y_train)"
   ]
  },
  {
   "cell_type": "code",
   "execution_count": 34,
   "metadata": {},
   "outputs": [],
   "source": [
    "predictions3 = model3.predict(X_test_tfidf)"
   ]
  },
  {
   "cell_type": "code",
   "execution_count": 35,
   "metadata": {},
   "outputs": [
    {
     "name": "stdout",
     "output_type": "stream",
     "text": [
      "Accuracy RandomForestClassifier:  0.9659827018420005\n"
     ]
    }
   ],
   "source": [
    "print('Accuracy RandomForestClassifier: ', accuracy_score(y_test, predictions3))"
   ]
  },
  {
   "cell_type": "code",
   "execution_count": 36,
   "metadata": {},
   "outputs": [],
   "source": [
    "# Сохраним модель LinearSVC в файл и загрузим: \n",
    "with open('ChatBotPractice_LinearSVC.pkl', 'wb') as output:\n",
    "    pickle.dump(model3, output) #Сохраняем\n",
    "\n",
    "with open('ChatBotPractice_LinearSVC.pkl', 'rb') as pkl_file:\n",
    "    model_LinearSVC = pickle.load(pkl_file) #Загружаем"
   ]
  },
  {
   "cell_type": "markdown",
   "metadata": {},
   "source": [
    "#### Проверим результаты классификации загрузив модели"
   ]
  },
  {
   "cell_type": "code",
   "execution_count": 37,
   "metadata": {},
   "outputs": [
    {
     "data": {
      "text/plain": [
       "1"
      ]
     },
     "execution_count": 37,
     "metadata": {},
     "output_type": "execute_result"
    }
   ],
   "source": [
    "question1 = 'юбка'\n",
    "\n",
    "vec = model_tfidf_vec.transform([question1])\n",
    "model_LinearSVC.predict(vec)[0]"
   ]
  },
  {
   "cell_type": "code",
   "execution_count": 38,
   "metadata": {},
   "outputs": [
    {
     "data": {
      "text/plain": [
       "0"
      ]
     },
     "execution_count": 38,
     "metadata": {},
     "output_type": "execute_result"
    }
   ],
   "source": [
    "question2 = 'как же так'\n",
    "vec = model_tfidf_vec.transform([question2])\n",
    "model_LinearSVC.predict(vec)[0]"
   ]
  },
  {
   "cell_type": "code",
   "execution_count": 39,
   "metadata": {},
   "outputs": [
    {
     "data": {
      "text/plain": [
       "1"
      ]
     },
     "execution_count": 39,
     "metadata": {},
     "output_type": "execute_result"
    }
   ],
   "source": [
    "question3 = 'шарф'\n",
    "vec = model_tfidf_vec.transform([question3])\n",
    "model_LinearSVC.predict(vec)[0]"
   ]
  },
  {
   "cell_type": "code",
   "execution_count": 40,
   "metadata": {},
   "outputs": [
    {
     "data": {
      "text/plain": [
       "0"
      ]
     },
     "execution_count": 40,
     "metadata": {},
     "output_type": "execute_result"
    }
   ],
   "source": [
    "question4 = 'В каком году'\n",
    "vec = model_tfidf_vec.transform([question4])\n",
    "model_LinearSVC.predict(vec)[0]"
   ]
  },
  {
   "cell_type": "code",
   "execution_count": 41,
   "metadata": {},
   "outputs": [],
   "source": [
    "def get_class(question):\n",
    "    vec = model_tfidf_vec.transform([question])\n",
    "    question_class = model_LinearSVC.predict(vec)[0]\n",
    "    return question_class"
   ]
  },
  {
   "cell_type": "markdown",
   "metadata": {},
   "source": [
    "# Предобработаем текст в болталке, чтобы обучить word2vec и получить эмбеддинги. Удаляем знаки препинания и делаем лемматизацию"
   ]
  },
  {
   "cell_type": "code",
   "execution_count": 42,
   "metadata": {},
   "outputs": [],
   "source": [
    "def preprocess_txt_speak(line):\n",
    "    spls = \"\".join(i for i in line.strip() if i not in exclude).split()\n",
    "    spls = [morpher.parse(i.lower())[0].normal_form for i in spls]\n",
    "    spls = [i for i in spls if i not in sw and i != \"\"]\n",
    "    return spls"
   ]
  },
  {
   "cell_type": "code",
   "execution_count": 43,
   "metadata": {},
   "outputs": [
    {
     "data": {
      "application/vnd.jupyter.widget-view+json": {
       "model_id": "c2a2c740ef41457da9279bcb9e16fbca",
       "version_major": 2,
       "version_minor": 0
      },
      "text/plain": [
       "0it [00:00, ?it/s]"
      ]
     },
     "metadata": {},
     "output_type": "display_data"
    }
   ],
   "source": [
    "sentences = []\n",
    "\n",
    "morpher = MorphAnalyzer()\n",
    "sw = set(get_stop_words(\"ru\"))\n",
    "exclude = set(string.punctuation)\n",
    "c = 0\n",
    "\n",
    "with codecs.open(\"Otvety.txt\", \"r\", \"utf-8\") as fin:\n",
    "    for line in tqdm(fin):\n",
    "        spls = preprocess_txt_speak(line)\n",
    "        sentences.append(spls)\n",
    "        c += 1\n",
    "        if c > 200000:\n",
    "        #if c > 50000:\n",
    "            break"
   ]
  },
  {
   "cell_type": "code",
   "execution_count": 44,
   "metadata": {},
   "outputs": [],
   "source": [
    "# Обучим модель word2vec на наших вопросах\n",
    "sentences = [i for i in sentences if len(i) > 2]\n",
    "model = Word2Vec(sentences=sentences, vector_size=100, min_count=1, window=5)\n",
    "model.save(\"w2v_model\")"
   ]
  },
  {
   "cell_type": "code",
   "execution_count": 45,
   "metadata": {},
   "outputs": [
    {
     "data": {
      "application/vnd.jupyter.widget-view+json": {
       "model_id": "0b82aa95131e42cc90f1b5a1a54db731",
       "version_major": 2,
       "version_minor": 0
      },
      "text/plain": [
       "0it [00:00, ?it/s]"
      ]
     },
     "metadata": {},
     "output_type": "display_data"
    },
    {
     "data": {
      "text/plain": [
       "True"
      ]
     },
     "execution_count": 45,
     "metadata": {},
     "output_type": "execute_result"
    }
   ],
   "source": [
    "index = annoy.AnnoyIndex(100 ,'angular')\n",
    "\n",
    "index_map = {}\n",
    "counter = 0\n",
    "\n",
    "for q, a in tqdm(zip(data_answers['question'], data_answers['answer'])):\n",
    "    n_w2v = 0\n",
    "    index_map[counter] = a\n",
    "    question = preprocess_txt_speak(q)\n",
    "    vector = np.zeros(100)\n",
    "    for word in question:\n",
    "        if word in model.wv:\n",
    "            vector += model.wv[word]\n",
    "            n_w2v += 1\n",
    "    if n_w2v > 0:\n",
    "        vector = vector / n_w2v\n",
    "    index.add_item(counter, vector)\n",
    "\n",
    "    counter += 1\n",
    "    if counter > 20000:\n",
    "        break\n",
    "\n",
    "index.build(10)\n",
    "index.save('speaker.ann')"
   ]
  },
  {
   "cell_type": "code",
   "execution_count": 46,
   "metadata": {},
   "outputs": [],
   "source": [
    "def find_answer_speak(question):\n",
    "    preprocessed_question = preprocess_txt_speak(question)\n",
    "    n_w2v = 0\n",
    "    vector = np.zeros(100)\n",
    "    for word in preprocessed_question:\n",
    "        if word in model.wv:\n",
    "            vector += model.wv[word]\n",
    "            n_w2v += 1\n",
    "    if n_w2v > 0:\n",
    "        vector = vector / n_w2v\n",
    "    answer_index = index.get_nns_by_vector(vector, 1)\n",
    "    return index_map[answer_index[0]]"
   ]
  },
  {
   "cell_type": "code",
   "execution_count": 47,
   "metadata": {},
   "outputs": [
    {
     "data": {
      "text/plain": [
       "'Бог на Руси бережет пьяных и дураков.... \\n'"
      ]
     },
     "execution_count": 47,
     "metadata": {},
     "output_type": "execute_result"
    }
   ],
   "source": [
    "# test\n",
    "find_answer_speak('Почему пьяному везет больше чем трезвому')"
   ]
  },
  {
   "cell_type": "markdown",
   "metadata": {},
   "source": [
    "# Предобработаем текст в продуктовом датасете, чтобы обучить word2vec и получить эмбеддинги. Удаляем знаки препинания и делаем лемматизацию"
   ]
  },
  {
   "cell_type": "code",
   "execution_count": 49,
   "metadata": {},
   "outputs": [
    {
     "data": {
      "application/vnd.jupyter.widget-view+json": {
       "model_id": "ffbe57b450e04c87b09d8dd964b10077",
       "version_major": 2,
       "version_minor": 0
      },
      "text/plain": [
       "  0%|          | 0/69082 [00:00<?, ?it/s]"
      ]
     },
     "metadata": {},
     "output_type": "display_data"
    }
   ],
   "source": [
    "sentences_pr = []\n",
    "\n",
    "morpher = MorphAnalyzer()\n",
    "sw = set(get_stop_words(\"ru\"))\n",
    "exclude = set(string.punctuation)\n",
    "#c = 0\n",
    "\n",
    "\n",
    "for question in tqdm(data_title['question']):\n",
    "    spls = preprocess_txt_speak(question)\n",
    "    sentences_pr.append(spls)\n",
    "#     c += 1\n",
    "#     #if c > 500000:\n",
    "#     if c > 50000:\n",
    "#        break"
   ]
  },
  {
   "cell_type": "code",
   "execution_count": 50,
   "metadata": {},
   "outputs": [],
   "source": [
    "# Обучим модель word2vec на наших вопросах\n",
    "sentences_pr = [i for i in sentences_pr if len(i) > 2]\n",
    "model_pr = Word2Vec(sentences=sentences_pr, vector_size=100, min_count=1, window=5)\n",
    "model_pr.save(\"w2v_pr_model\")"
   ]
  },
  {
   "cell_type": "code",
   "execution_count": 51,
   "metadata": {},
   "outputs": [
    {
     "data": {
      "application/vnd.jupyter.widget-view+json": {
       "model_id": "a4d82b71dfef4b75a99e1777e010b844",
       "version_major": 2,
       "version_minor": 0
      },
      "text/plain": [
       "0it [00:00, ?it/s]"
      ]
     },
     "metadata": {},
     "output_type": "display_data"
    },
    {
     "data": {
      "text/plain": [
       "True"
      ]
     },
     "execution_count": 51,
     "metadata": {},
     "output_type": "execute_result"
    }
   ],
   "source": [
    "index_product = annoy.AnnoyIndex(100 ,'angular')\n",
    "\n",
    "index_pr = {}\n",
    "counter = 0\n",
    "\n",
    "for q, a in tqdm(zip(data_title['question'], data_title['answer'])):\n",
    "    n_w2v = 0\n",
    "    index_pr[counter] = a\n",
    "    question = preprocess_txt_speak(q)\n",
    "    vector = np.zeros(100)\n",
    "    for word in question:\n",
    "        if word in model_pr.wv:\n",
    "            vector += model_pr.wv[word]\n",
    "            n_w2v += 1\n",
    "    if n_w2v > 0:\n",
    "        vector = vector / n_w2v\n",
    "    index_product.add_item(counter, vector)\n",
    "\n",
    "    counter += 1\n",
    "#     if counter > 50000:\n",
    "#         break\n",
    "\n",
    "index_product.build(1)\n",
    "index_product.save('product.ann')"
   ]
  },
  {
   "cell_type": "code",
   "execution_count": 52,
   "metadata": {},
   "outputs": [],
   "source": [
    "def find_answer_product(question):\n",
    "    preprocessed_question = preprocess_txt_speak(question)\n",
    "    n_w2v = 0\n",
    "    vector = np.zeros(100)\n",
    "    for word in preprocessed_question:\n",
    "        if word in model_pr.wv:\n",
    "            vector += model_pr.wv[word]\n",
    "            n_w2v += 1\n",
    "    if n_w2v > 0:\n",
    "        vector = vector / n_w2v\n",
    "    answer_index = index_product.get_nns_by_vector(vector, 1)\n",
    "    return index_pr[answer_index[0]]"
   ]
  },
  {
   "cell_type": "code",
   "execution_count": 53,
   "metadata": {},
   "outputs": [
    {
     "data": {
      "text/plain": [
       "'5837eebcd9f65a3d91eeaef4'"
      ]
     },
     "execution_count": 53,
     "metadata": {},
     "output_type": "execute_result"
    }
   ],
   "source": [
    "# Проверка... ну такое себе\n",
    "find_answer_product('Женская зимняя куртка')"
   ]
  },
  {
   "cell_type": "code",
   "execution_count": 58,
   "metadata": {},
   "outputs": [
    {
     "data": {
      "text/html": [
       "<div>\n",
       "<style scoped>\n",
       "    .dataframe tbody tr th:only-of-type {\n",
       "        vertical-align: middle;\n",
       "    }\n",
       "\n",
       "    .dataframe tbody tr th {\n",
       "        vertical-align: top;\n",
       "    }\n",
       "\n",
       "    .dataframe thead th {\n",
       "        text-align: right;\n",
       "    }\n",
       "</style>\n",
       "<table border=\"1\" class=\"dataframe\">\n",
       "  <thead>\n",
       "    <tr style=\"text-align: right;\">\n",
       "      <th></th>\n",
       "      <th>question</th>\n",
       "      <th>answer</th>\n",
       "      <th>is_product</th>\n",
       "    </tr>\n",
       "  </thead>\n",
       "  <tbody>\n",
       "    <tr>\n",
       "      <th>1277</th>\n",
       "      <td>Зимняя женская куртка</td>\n",
       "      <td>5837eebcd9f65a3d91eeaef4</td>\n",
       "      <td>1</td>\n",
       "    </tr>\n",
       "    <tr>\n",
       "      <th>36764</th>\n",
       "      <td>Очень качественная, фирменная. Р.54-56. В идеа...</td>\n",
       "      <td>5837eebcd9f65a3d91eeaef4</td>\n",
       "      <td>1</td>\n",
       "    </tr>\n",
       "  </tbody>\n",
       "</table>\n",
       "</div>"
      ],
      "text/plain": [
       "                                                question  \\\n",
       "1277                               Зимняя женская куртка   \n",
       "36764  Очень качественная, фирменная. Р.54-56. В идеа...   \n",
       "\n",
       "                         answer  is_product  \n",
       "1277   5837eebcd9f65a3d91eeaef4           1  \n",
       "36764  5837eebcd9f65a3d91eeaef4           1  "
      ]
     },
     "execution_count": 58,
     "metadata": {},
     "output_type": "execute_result"
    }
   ],
   "source": [
    "data_title.loc[data_title['answer']=='5837eebcd9f65a3d91eeaef4']"
   ]
  },
  {
   "cell_type": "markdown",
   "metadata": {},
   "source": [
    "# Реализуем Чатбот"
   ]
  },
  {
   "cell_type": "code",
   "execution_count": 55,
   "metadata": {},
   "outputs": [],
   "source": [
    "def get_answer(question):\n",
    "    \n",
    "    # Определяем класс вопроса 1-продукт, 0-болталка\n",
    "    question_class = get_class(str(question))\n",
    "    \n",
    "    \n",
    "    # Ответ \n",
    "    if question_class == 1:\n",
    "        answer = find_answer_product(str(question))\n",
    "    \n",
    "    # Болтаем\n",
    "    else:\n",
    "        answer = find_answer_speak(str(question))\n",
    "        \n",
    "    return answer"
   ]
  },
  {
   "cell_type": "markdown",
   "metadata": {},
   "source": [
    "# Тестируем"
   ]
  },
  {
   "cell_type": "code",
   "execution_count": 56,
   "metadata": {},
   "outputs": [],
   "source": [
    "assert(get_answer('Юбка детская ORBY').startswith('58e3cfe6132ca50e053f5f82')), 'Не корректный код товара!'"
   ]
  },
  {
   "cell_type": "code",
   "execution_count": 57,
   "metadata": {
    "id": "ky7bZJ9xP5On"
   },
   "outputs": [],
   "source": [
    "assert(not get_answer('Где ключи от танка').startswith('5')) "
   ]
  }
 ],
 "metadata": {
  "colab": {
   "collapsed_sections": [],
   "name": "ChatBotPractice.ipynb",
   "provenance": []
  },
  "kernelspec": {
   "display_name": "Python 3 (ipykernel)",
   "language": "python",
   "name": "python3"
  },
  "language_info": {
   "codemirror_mode": {
    "name": "ipython",
    "version": 3
   },
   "file_extension": ".py",
   "mimetype": "text/x-python",
   "name": "python",
   "nbconvert_exporter": "python",
   "pygments_lexer": "ipython3",
   "version": "3.8.11"
  }
 },
 "nbformat": 4,
 "nbformat_minor": 1
}
